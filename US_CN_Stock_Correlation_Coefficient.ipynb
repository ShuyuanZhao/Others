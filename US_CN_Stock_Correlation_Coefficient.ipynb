{
 "cells": [
  {
   "cell_type": "code",
   "execution_count": 1,
   "metadata": {
    "collapsed": true
   },
   "outputs": [],
   "source": [
    "import numpy as np\n",
    "import pandas as pd\n",
    "import matplotlib.pyplot as plt\n",
    "import seaborn as sns\n",
    "import re\n",
    "import collections\n",
    "import plotly \n",
    "import plotly.plotly as py\n",
    "import plotly.graph_objs as go\n",
    "%matplotlib inline"
   ]
  },
  {
   "cell_type": "code",
   "execution_count": 8,
   "metadata": {},
   "outputs": [
    {
     "name": "stdout",
     "output_type": "stream",
     "text": [
      "Loading data...\n",
      "Data is loaded\n"
     ]
    }
   ],
   "source": [
    "print('Loading data...')\n",
    "df = pd.read_csv(\"./RH/data.csv\")\n",
    "print('Data is loaded')"
   ]
  },
  {
   "cell_type": "code",
   "execution_count": 10,
   "metadata": {},
   "outputs": [
    {
     "name": "stdout",
     "output_type": "stream",
     "text": [
      "Summary of the basic information about this DataFrame and its data:\n",
      "<class 'pandas.core.frame.DataFrame'>\n",
      "RangeIndex: 20 entries, 0 to 19\n",
      "Data columns (total 18 columns):\n",
      "Quarter                            20 non-null object\n",
      "SSE                                20 non-null float64\n",
      "DJI                                20 non-null float64\n",
      "SSE_DJI_Correlation_Coefficient    20 non-null float64\n",
      "IE_Volume                          20 non-null float64\n",
      "IE_Growth_Rate                     20 non-null float64\n",
      "US_GDP                             20 non-null float64\n",
      "US_GDP_Growth_Rate                 20 non-null float64\n",
      "CN_GDP                             20 non-null float64\n",
      "CN_GDP_Growth_Rate                 20 non-null float64\n",
      "GPD_Diff                           20 non-null float64\n",
      "US_CPI                             20 non-null float64\n",
      "US_CPI_Growth_Rate                 20 non-null float64\n",
      "CN_CPI                             20 non-null float64\n",
      "CN_CPI_Growth_Rate                 20 non-null float64\n",
      "CPI_Diff                           20 non-null float64\n",
      "Exchange_Rate                      20 non-null float64\n",
      "Exchange_Volatility                20 non-null float64\n",
      "dtypes: float64(17), object(1)\n",
      "memory usage: 2.9+ KB\n",
      "None\n"
     ]
    }
   ],
   "source": [
    "print(\"Summary of the basic information about this DataFrame and its data:\")\n",
    "print(df.info())"
   ]
  },
  {
   "cell_type": "code",
   "execution_count": 11,
   "metadata": {},
   "outputs": [
    {
     "data": {
      "text/html": [
       "<div>\n",
       "<style scoped>\n",
       "    .dataframe tbody tr th:only-of-type {\n",
       "        vertical-align: middle;\n",
       "    }\n",
       "\n",
       "    .dataframe tbody tr th {\n",
       "        vertical-align: top;\n",
       "    }\n",
       "\n",
       "    .dataframe thead th {\n",
       "        text-align: right;\n",
       "    }\n",
       "</style>\n",
       "<table border=\"1\" class=\"dataframe\">\n",
       "  <thead>\n",
       "    <tr style=\"text-align: right;\">\n",
       "      <th></th>\n",
       "      <th>Quarter</th>\n",
       "      <th>SSE</th>\n",
       "      <th>DJI</th>\n",
       "      <th>SSE_DJI_Correlation_Coefficient</th>\n",
       "      <th>IE_Volume</th>\n",
       "      <th>IE_Growth_Rate</th>\n",
       "      <th>US_GDP</th>\n",
       "      <th>US_GDP_Growth_Rate</th>\n",
       "      <th>CN_GDP</th>\n",
       "      <th>CN_GDP_Growth_Rate</th>\n",
       "      <th>GPD_Diff</th>\n",
       "      <th>US_CPI</th>\n",
       "      <th>US_CPI_Growth_Rate</th>\n",
       "      <th>CN_CPI</th>\n",
       "      <th>CN_CPI_Growth_Rate</th>\n",
       "      <th>CPI_Diff</th>\n",
       "      <th>Exchange_Rate</th>\n",
       "      <th>Exchange_Volatility</th>\n",
       "    </tr>\n",
       "  </thead>\n",
       "  <tbody>\n",
       "    <tr>\n",
       "      <th>0</th>\n",
       "      <td>14Q1</td>\n",
       "      <td>2051.309</td>\n",
       "      <td>16189.343</td>\n",
       "      <td>-0.093</td>\n",
       "      <td>4087904.404</td>\n",
       "      <td>0.000</td>\n",
       "      <td>4196.206</td>\n",
       "      <td>-3.246</td>\n",
       "      <td>14027.02</td>\n",
       "      <td>-16.393</td>\n",
       "      <td>13.146</td>\n",
       "      <td>323.308</td>\n",
       "      <td>0.761</td>\n",
       "      <td>306.9</td>\n",
       "      <td>-0.583</td>\n",
       "      <td>1.344</td>\n",
       "      <td>6.134</td>\n",
       "      <td>0.052</td>\n",
       "    </tr>\n",
       "    <tr>\n",
       "      <th>1</th>\n",
       "      <td>14Q2</td>\n",
       "      <td>2048.557</td>\n",
       "      <td>16592.367</td>\n",
       "      <td>-0.498</td>\n",
       "      <td>4460502.554</td>\n",
       "      <td>0.091</td>\n",
       "      <td>4356.246</td>\n",
       "      <td>3.814</td>\n",
       "      <td>15592.23</td>\n",
       "      <td>11.159</td>\n",
       "      <td>7.345</td>\n",
       "      <td>327.125</td>\n",
       "      <td>1.181</td>\n",
       "      <td>306.6</td>\n",
       "      <td>-0.098</td>\n",
       "      <td>1.279</td>\n",
       "      <td>6.235</td>\n",
       "      <td>0.301</td>\n",
       "    </tr>\n",
       "    <tr>\n",
       "      <th>2</th>\n",
       "      <td>14Q3</td>\n",
       "      <td>2205.846</td>\n",
       "      <td>16954.696</td>\n",
       "      <td>0.140</td>\n",
       "      <td>4939717.892</td>\n",
       "      <td>0.107</td>\n",
       "      <td>4444.486</td>\n",
       "      <td>2.026</td>\n",
       "      <td>16489.78</td>\n",
       "      <td>5.756</td>\n",
       "      <td>3.731</td>\n",
       "      <td>327.501</td>\n",
       "      <td>0.115</td>\n",
       "      <td>305.9</td>\n",
       "      <td>-0.228</td>\n",
       "      <td>0.343</td>\n",
       "      <td>6.137</td>\n",
       "      <td>0.034</td>\n",
       "    </tr>\n",
       "    <tr>\n",
       "      <th>3</th>\n",
       "      <td>14Q4</td>\n",
       "      <td>2619.172</td>\n",
       "      <td>17361.904</td>\n",
       "      <td>0.666</td>\n",
       "      <td>5023032.239</td>\n",
       "      <td>0.017</td>\n",
       "      <td>4524.792</td>\n",
       "      <td>1.807</td>\n",
       "      <td>18019.03</td>\n",
       "      <td>9.274</td>\n",
       "      <td>7.467</td>\n",
       "      <td>324.870</td>\n",
       "      <td>-0.803</td>\n",
       "      <td>304.5</td>\n",
       "      <td>-0.458</td>\n",
       "      <td>0.346</td>\n",
       "      <td>6.127</td>\n",
       "      <td>0.042</td>\n",
       "    </tr>\n",
       "    <tr>\n",
       "      <th>4</th>\n",
       "      <td>15Q1</td>\n",
       "      <td>3327.362</td>\n",
       "      <td>17807.473</td>\n",
       "      <td>0.132</td>\n",
       "      <td>4208619.020</td>\n",
       "      <td>-0.162</td>\n",
       "      <td>4387.125</td>\n",
       "      <td>-3.043</td>\n",
       "      <td>15059.38</td>\n",
       "      <td>-16.425</td>\n",
       "      <td>13.383</td>\n",
       "      <td>323.105</td>\n",
       "      <td>-0.543</td>\n",
       "      <td>303.6</td>\n",
       "      <td>-0.296</td>\n",
       "      <td>0.248</td>\n",
       "      <td>6.237</td>\n",
       "      <td>0.021</td>\n",
       "    </tr>\n",
       "    <tr>\n",
       "      <th>5</th>\n",
       "      <td>15Q2</td>\n",
       "      <td>4463.090</td>\n",
       "      <td>18008.386</td>\n",
       "      <td>0.104</td>\n",
       "      <td>4683804.988</td>\n",
       "      <td>0.113</td>\n",
       "      <td>4564.318</td>\n",
       "      <td>4.039</td>\n",
       "      <td>16787.45</td>\n",
       "      <td>11.475</td>\n",
       "      <td>7.436</td>\n",
       "      <td>327.000</td>\n",
       "      <td>1.206</td>\n",
       "      <td>304.1</td>\n",
       "      <td>0.165</td>\n",
       "      <td>1.041</td>\n",
       "      <td>6.204</td>\n",
       "      <td>0.012</td>\n",
       "    </tr>\n",
       "    <tr>\n",
       "      <th>6</th>\n",
       "      <td>15Q3</td>\n",
       "      <td>3536.720</td>\n",
       "      <td>17088.449</td>\n",
       "      <td>0.911</td>\n",
       "      <td>4908677.314</td>\n",
       "      <td>0.048</td>\n",
       "      <td>4608.954</td>\n",
       "      <td>0.978</td>\n",
       "      <td>17580.38</td>\n",
       "      <td>4.723</td>\n",
       "      <td>3.745</td>\n",
       "      <td>327.859</td>\n",
       "      <td>0.263</td>\n",
       "      <td>305.2</td>\n",
       "      <td>0.362</td>\n",
       "      <td>0.099</td>\n",
       "      <td>6.306</td>\n",
       "      <td>0.150</td>\n",
       "    </tr>\n",
       "    <tr>\n",
       "      <th>7</th>\n",
       "      <td>15Q4</td>\n",
       "      <td>3457.423</td>\n",
       "      <td>17456.115</td>\n",
       "      <td>0.716</td>\n",
       "      <td>4863102.036</td>\n",
       "      <td>-0.009</td>\n",
       "      <td>4658.900</td>\n",
       "      <td>1.084</td>\n",
       "      <td>19172.08</td>\n",
       "      <td>9.054</td>\n",
       "      <td>7.970</td>\n",
       "      <td>326.384</td>\n",
       "      <td>-0.450</td>\n",
       "      <td>304.4</td>\n",
       "      <td>-0.262</td>\n",
       "      <td>0.188</td>\n",
       "      <td>6.391</td>\n",
       "      <td>0.066</td>\n",
       "    </tr>\n",
       "    <tr>\n",
       "      <th>8</th>\n",
       "      <td>16Q1</td>\n",
       "      <td>2910.782</td>\n",
       "      <td>16668.396</td>\n",
       "      <td>0.442</td>\n",
       "      <td>3099162.501</td>\n",
       "      <td>-0.363</td>\n",
       "      <td>4494.170</td>\n",
       "      <td>-3.536</td>\n",
       "      <td>16096.73</td>\n",
       "      <td>-16.041</td>\n",
       "      <td>12.505</td>\n",
       "      <td>326.595</td>\n",
       "      <td>0.065</td>\n",
       "      <td>306.4</td>\n",
       "      <td>0.657</td>\n",
       "      <td>0.592</td>\n",
       "      <td>6.451</td>\n",
       "      <td>0.884</td>\n",
       "    </tr>\n",
       "    <tr>\n",
       "      <th>9</th>\n",
       "      <td>16Q2</td>\n",
       "      <td>2921.638</td>\n",
       "      <td>17751.558</td>\n",
       "      <td>0.294</td>\n",
       "      <td>4174271.679</td>\n",
       "      <td>0.347</td>\n",
       "      <td>4670.202</td>\n",
       "      <td>3.917</td>\n",
       "      <td>17987.87</td>\n",
       "      <td>11.749</td>\n",
       "      <td>7.832</td>\n",
       "      <td>330.424</td>\n",
       "      <td>1.172</td>\n",
       "      <td>306.2</td>\n",
       "      <td>-0.065</td>\n",
       "      <td>1.238</td>\n",
       "      <td>6.535</td>\n",
       "      <td>0.534</td>\n",
       "    </tr>\n",
       "    <tr>\n",
       "      <th>10</th>\n",
       "      <td>16Q3</td>\n",
       "      <td>3032.082</td>\n",
       "      <td>18360.699</td>\n",
       "      <td>0.502</td>\n",
       "      <td>4610058.744</td>\n",
       "      <td>0.104</td>\n",
       "      <td>4728.052</td>\n",
       "      <td>1.239</td>\n",
       "      <td>18933.76</td>\n",
       "      <td>5.258</td>\n",
       "      <td>4.020</td>\n",
       "      <td>331.523</td>\n",
       "      <td>0.333</td>\n",
       "      <td>305.0</td>\n",
       "      <td>-0.392</td>\n",
       "      <td>0.725</td>\n",
       "      <td>6.510</td>\n",
       "      <td>2.869</td>\n",
       "    </tr>\n",
       "    <tr>\n",
       "      <th>11</th>\n",
       "      <td>16Q4</td>\n",
       "      <td>3138.497</td>\n",
       "      <td>18855.589</td>\n",
       "      <td>0.407</td>\n",
       "      <td>4932311.834</td>\n",
       "      <td>0.070</td>\n",
       "      <td>4814.759</td>\n",
       "      <td>1.834</td>\n",
       "      <td>20987.72</td>\n",
       "      <td>10.848</td>\n",
       "      <td>9.014</td>\n",
       "      <td>332.261</td>\n",
       "      <td>0.223</td>\n",
       "      <td>306.5</td>\n",
       "      <td>0.492</td>\n",
       "      <td>0.269</td>\n",
       "      <td>6.837</td>\n",
       "      <td>0.176</td>\n",
       "    </tr>\n",
       "    <tr>\n",
       "      <th>12</th>\n",
       "      <td>17Q1</td>\n",
       "      <td>3192.872</td>\n",
       "      <td>20380.455</td>\n",
       "      <td>0.885</td>\n",
       "      <td>4217965.659</td>\n",
       "      <td>-0.145</td>\n",
       "      <td>4652.849</td>\n",
       "      <td>-3.363</td>\n",
       "      <td>17940.34</td>\n",
       "      <td>-14.520</td>\n",
       "      <td>11.157</td>\n",
       "      <td>334.889</td>\n",
       "      <td>0.791</td>\n",
       "      <td>304.2</td>\n",
       "      <td>-0.750</td>\n",
       "      <td>1.541</td>\n",
       "      <td>6.888</td>\n",
       "      <td>0.015</td>\n",
       "    </tr>\n",
       "    <tr>\n",
       "      <th>13</th>\n",
       "      <td>17Q2</td>\n",
       "      <td>3151.514</td>\n",
       "      <td>20967.816</td>\n",
       "      <td>-0.398</td>\n",
       "      <td>4774838.409</td>\n",
       "      <td>0.132</td>\n",
       "      <td>4856.374</td>\n",
       "      <td>4.374</td>\n",
       "      <td>19917.78</td>\n",
       "      <td>11.022</td>\n",
       "      <td>6.648</td>\n",
       "      <td>336.709</td>\n",
       "      <td>0.544</td>\n",
       "      <td>304.2</td>\n",
       "      <td>0.000</td>\n",
       "      <td>0.544</td>\n",
       "      <td>6.863</td>\n",
       "      <td>0.057</td>\n",
       "    </tr>\n",
       "    <tr>\n",
       "      <th>14</th>\n",
       "      <td>17Q3</td>\n",
       "      <td>3288.274</td>\n",
       "      <td>21861.336</td>\n",
       "      <td>0.689</td>\n",
       "      <td>5178258.363</td>\n",
       "      <td>0.084</td>\n",
       "      <td>4933.668</td>\n",
       "      <td>1.592</td>\n",
       "      <td>20982.41</td>\n",
       "      <td>5.345</td>\n",
       "      <td>3.754</td>\n",
       "      <td>338.044</td>\n",
       "      <td>0.397</td>\n",
       "      <td>304.8</td>\n",
       "      <td>0.197</td>\n",
       "      <td>0.199</td>\n",
       "      <td>6.671</td>\n",
       "      <td>0.185</td>\n",
       "    </tr>\n",
       "    <tr>\n",
       "      <th>15</th>\n",
       "      <td>17Q4</td>\n",
       "      <td>3353.114</td>\n",
       "      <td>23681.911</td>\n",
       "      <td>-0.708</td>\n",
       "      <td>5439729.308</td>\n",
       "      <td>0.050</td>\n",
       "      <td>5042.503</td>\n",
       "      <td>2.206</td>\n",
       "      <td>23234.90</td>\n",
       "      <td>10.735</td>\n",
       "      <td>8.529</td>\n",
       "      <td>339.297</td>\n",
       "      <td>0.371</td>\n",
       "      <td>305.4</td>\n",
       "      <td>0.197</td>\n",
       "      <td>0.174</td>\n",
       "      <td>6.611</td>\n",
       "      <td>0.030</td>\n",
       "    </tr>\n",
       "    <tr>\n",
       "      <th>16</th>\n",
       "      <td>18Q1</td>\n",
       "      <td>3325.381</td>\n",
       "      <td>25134.310</td>\n",
       "      <td>0.870</td>\n",
       "      <td>4723337.463</td>\n",
       "      <td>-0.132</td>\n",
       "      <td>4901.548</td>\n",
       "      <td>-2.795</td>\n",
       "      <td>19792.00</td>\n",
       "      <td>-14.818</td>\n",
       "      <td>12.022</td>\n",
       "      <td>342.304</td>\n",
       "      <td>0.886</td>\n",
       "      <td>306.5</td>\n",
       "      <td>0.360</td>\n",
       "      <td>0.526</td>\n",
       "      <td>6.354</td>\n",
       "      <td>0.330</td>\n",
       "    </tr>\n",
       "    <tr>\n",
       "      <th>17</th>\n",
       "      <td>18Q2</td>\n",
       "      <td>3084.323</td>\n",
       "      <td>24560.876</td>\n",
       "      <td>-0.002</td>\n",
       "      <td>5342888.133</td>\n",
       "      <td>0.131</td>\n",
       "      <td>5133.509</td>\n",
       "      <td>4.732</td>\n",
       "      <td>21929.54</td>\n",
       "      <td>10.800</td>\n",
       "      <td>6.068</td>\n",
       "      <td>345.840</td>\n",
       "      <td>1.033</td>\n",
       "      <td>305.5</td>\n",
       "      <td>-0.326</td>\n",
       "      <td>1.359</td>\n",
       "      <td>6.379</td>\n",
       "      <td>0.124</td>\n",
       "    </tr>\n",
       "    <tr>\n",
       "      <th>18</th>\n",
       "      <td>18Q3</td>\n",
       "      <td>2766.753</td>\n",
       "      <td>25560.805</td>\n",
       "      <td>-0.291</td>\n",
       "      <td>5731402.233</td>\n",
       "      <td>0.073</td>\n",
       "      <td>5194.155</td>\n",
       "      <td>1.181</td>\n",
       "      <td>22949.55</td>\n",
       "      <td>4.651</td>\n",
       "      <td>3.470</td>\n",
       "      <td>346.972</td>\n",
       "      <td>0.327</td>\n",
       "      <td>306.9</td>\n",
       "      <td>0.458</td>\n",
       "      <td>0.131</td>\n",
       "      <td>6.806</td>\n",
       "      <td>0.670</td>\n",
       "    </tr>\n",
       "    <tr>\n",
       "      <th>19</th>\n",
       "      <td>18Q4</td>\n",
       "      <td>2615.335</td>\n",
       "      <td>24902.137</td>\n",
       "      <td>0.735</td>\n",
       "      <td>5374955.367</td>\n",
       "      <td>-0.062</td>\n",
       "      <td>5308.983</td>\n",
       "      <td>2.211</td>\n",
       "      <td>25359.86</td>\n",
       "      <td>10.503</td>\n",
       "      <td>8.292</td>\n",
       "      <td>346.772</td>\n",
       "      <td>-0.057</td>\n",
       "      <td>306.6</td>\n",
       "      <td>-0.098</td>\n",
       "      <td>0.040</td>\n",
       "      <td>6.920</td>\n",
       "      <td>0.079</td>\n",
       "    </tr>\n",
       "  </tbody>\n",
       "</table>\n",
       "</div>"
      ],
      "text/plain": [
       "   Quarter       SSE        DJI  SSE_DJI_Correlation_Coefficient    IE_Volume  \\\n",
       "0     14Q1  2051.309  16189.343                           -0.093  4087904.404   \n",
       "1     14Q2  2048.557  16592.367                           -0.498  4460502.554   \n",
       "2     14Q3  2205.846  16954.696                            0.140  4939717.892   \n",
       "3     14Q4  2619.172  17361.904                            0.666  5023032.239   \n",
       "4     15Q1  3327.362  17807.473                            0.132  4208619.020   \n",
       "5     15Q2  4463.090  18008.386                            0.104  4683804.988   \n",
       "6     15Q3  3536.720  17088.449                            0.911  4908677.314   \n",
       "7     15Q4  3457.423  17456.115                            0.716  4863102.036   \n",
       "8     16Q1  2910.782  16668.396                            0.442  3099162.501   \n",
       "9     16Q2  2921.638  17751.558                            0.294  4174271.679   \n",
       "10    16Q3  3032.082  18360.699                            0.502  4610058.744   \n",
       "11    16Q4  3138.497  18855.589                            0.407  4932311.834   \n",
       "12    17Q1  3192.872  20380.455                            0.885  4217965.659   \n",
       "13    17Q2  3151.514  20967.816                           -0.398  4774838.409   \n",
       "14    17Q3  3288.274  21861.336                            0.689  5178258.363   \n",
       "15    17Q4  3353.114  23681.911                           -0.708  5439729.308   \n",
       "16    18Q1  3325.381  25134.310                            0.870  4723337.463   \n",
       "17    18Q2  3084.323  24560.876                           -0.002  5342888.133   \n",
       "18    18Q3  2766.753  25560.805                           -0.291  5731402.233   \n",
       "19    18Q4  2615.335  24902.137                            0.735  5374955.367   \n",
       "\n",
       "    IE_Growth_Rate    US_GDP  US_GDP_Growth_Rate    CN_GDP  \\\n",
       "0            0.000  4196.206              -3.246  14027.02   \n",
       "1            0.091  4356.246               3.814  15592.23   \n",
       "2            0.107  4444.486               2.026  16489.78   \n",
       "3            0.017  4524.792               1.807  18019.03   \n",
       "4           -0.162  4387.125              -3.043  15059.38   \n",
       "5            0.113  4564.318               4.039  16787.45   \n",
       "6            0.048  4608.954               0.978  17580.38   \n",
       "7           -0.009  4658.900               1.084  19172.08   \n",
       "8           -0.363  4494.170              -3.536  16096.73   \n",
       "9            0.347  4670.202               3.917  17987.87   \n",
       "10           0.104  4728.052               1.239  18933.76   \n",
       "11           0.070  4814.759               1.834  20987.72   \n",
       "12          -0.145  4652.849              -3.363  17940.34   \n",
       "13           0.132  4856.374               4.374  19917.78   \n",
       "14           0.084  4933.668               1.592  20982.41   \n",
       "15           0.050  5042.503               2.206  23234.90   \n",
       "16          -0.132  4901.548              -2.795  19792.00   \n",
       "17           0.131  5133.509               4.732  21929.54   \n",
       "18           0.073  5194.155               1.181  22949.55   \n",
       "19          -0.062  5308.983               2.211  25359.86   \n",
       "\n",
       "    CN_GDP_Growth_Rate  GPD_Diff   US_CPI  US_CPI_Growth_Rate  CN_CPI  \\\n",
       "0              -16.393    13.146  323.308               0.761   306.9   \n",
       "1               11.159     7.345  327.125               1.181   306.6   \n",
       "2                5.756     3.731  327.501               0.115   305.9   \n",
       "3                9.274     7.467  324.870              -0.803   304.5   \n",
       "4              -16.425    13.383  323.105              -0.543   303.6   \n",
       "5               11.475     7.436  327.000               1.206   304.1   \n",
       "6                4.723     3.745  327.859               0.263   305.2   \n",
       "7                9.054     7.970  326.384              -0.450   304.4   \n",
       "8              -16.041    12.505  326.595               0.065   306.4   \n",
       "9               11.749     7.832  330.424               1.172   306.2   \n",
       "10               5.258     4.020  331.523               0.333   305.0   \n",
       "11              10.848     9.014  332.261               0.223   306.5   \n",
       "12             -14.520    11.157  334.889               0.791   304.2   \n",
       "13              11.022     6.648  336.709               0.544   304.2   \n",
       "14               5.345     3.754  338.044               0.397   304.8   \n",
       "15              10.735     8.529  339.297               0.371   305.4   \n",
       "16             -14.818    12.022  342.304               0.886   306.5   \n",
       "17              10.800     6.068  345.840               1.033   305.5   \n",
       "18               4.651     3.470  346.972               0.327   306.9   \n",
       "19              10.503     8.292  346.772              -0.057   306.6   \n",
       "\n",
       "    CN_CPI_Growth_Rate  CPI_Diff  Exchange_Rate  Exchange_Volatility  \n",
       "0               -0.583     1.344          6.134                0.052  \n",
       "1               -0.098     1.279          6.235                0.301  \n",
       "2               -0.228     0.343          6.137                0.034  \n",
       "3               -0.458     0.346          6.127                0.042  \n",
       "4               -0.296     0.248          6.237                0.021  \n",
       "5                0.165     1.041          6.204                0.012  \n",
       "6                0.362     0.099          6.306                0.150  \n",
       "7               -0.262     0.188          6.391                0.066  \n",
       "8                0.657     0.592          6.451                0.884  \n",
       "9               -0.065     1.238          6.535                0.534  \n",
       "10              -0.392     0.725          6.510                2.869  \n",
       "11               0.492     0.269          6.837                0.176  \n",
       "12              -0.750     1.541          6.888                0.015  \n",
       "13               0.000     0.544          6.863                0.057  \n",
       "14               0.197     0.199          6.671                0.185  \n",
       "15               0.197     0.174          6.611                0.030  \n",
       "16               0.360     0.526          6.354                0.330  \n",
       "17              -0.326     1.359          6.379                0.124  \n",
       "18               0.458     0.131          6.806                0.670  \n",
       "19              -0.098     0.040          6.920                0.079  "
      ]
     },
     "execution_count": 11,
     "metadata": {},
     "output_type": "execute_result"
    }
   ],
   "source": [
    "df"
   ]
  },
  {
   "cell_type": "code",
   "execution_count": 12,
   "metadata": {},
   "outputs": [
    {
     "data": {
      "text/plain": [
       "Index(['Quarter', 'SSE', 'DJI', 'SSE_DJI_Correlation_Coefficient', 'IE_Volume',\n",
       "       'IE_Growth_Rate', 'US_GDP', 'US_GDP_Growth_Rate', 'CN_GDP',\n",
       "       'CN_GDP_Growth_Rate', 'GPD_Diff', 'US_CPI', 'US_CPI_Growth_Rate',\n",
       "       'CN_CPI', 'CN_CPI_Growth_Rate', 'CPI_Diff', 'Exchange_Rate',\n",
       "       'Exchange_Volatility'],\n",
       "      dtype='object')"
      ]
     },
     "execution_count": 12,
     "metadata": {},
     "output_type": "execute_result"
    }
   ],
   "source": [
    "df.columns"
   ]
  },
  {
   "cell_type": "markdown",
   "metadata": {},
   "source": [
    "# 中美股票季度相关系数"
   ]
  },
  {
   "cell_type": "code",
   "execution_count": 28,
   "metadata": {
    "collapsed": true
   },
   "outputs": [],
   "source": [
    "# 14Q1 - 17Q2 v.s. 17Q3 - 18Q4\n",
    "df1 = df.iloc[:14]  # 14Q1 - 17Q2\n",
    "df2 = df.iloc[14:]  # 17Q3 - 18Q4"
   ]
  },
  {
   "cell_type": "code",
   "execution_count": 99,
   "metadata": {},
   "outputs": [
    {
     "data": {
      "text/plain": [
       "<matplotlib.text.Text at 0x125756048>"
      ]
     },
     "execution_count": 99,
     "metadata": {},
     "output_type": "execute_result"
    },
    {
     "data": {
      "image/png": "[encoded data removed]",
      "text/plain": [
       "<matplotlib.figure.Figure at 0x125728080>"
      ]
     },
     "metadata": {},
     "output_type": "display_data"
    }
   ],
   "source": [
    "fig = plt.figure()\n",
    "plt.plot(df1.loc[:,['SSE_DJI_Correlation_Coefficient']], 'r', linewidth=1) \n",
    "fig.suptitle('14Q1 - 17Q2', fontsize=18)\n",
    "plt.xlabel('Quarter', fontsize=16)\n",
    "plt.ylabel('SSE DJI Correlation Coefficient', fontsize=16)"
   ]
  },
  {
   "cell_type": "code",
   "execution_count": 100,
   "metadata": {},
   "outputs": [
    {
     "data": {
      "text/plain": [
       "<matplotlib.text.Text at 0x125735d30>"
      ]
     },
     "execution_count": 100,
     "metadata": {},
     "output_type": "execute_result"
    },
    {
     "data": {
      "image/png": "[encoded data removed]",
      "text/plain": [
       "<matplotlib.figure.Figure at 0x12583c390>"
      ]
     },
     "metadata": {},
     "output_type": "display_data"
    }
   ],
   "source": [
    "fig = plt.figure()\n",
    "plt.plot(df2.loc[:,['SSE_DJI_Correlation_Coefficient']], 'b', linewidth=1) \n",
    "fig.suptitle('17Q3 - 18Q4', fontsize=18)\n",
    "plt.xlabel('Quarter', fontsize=16)\n",
    "plt.ylabel('SSE DJI Correlation Coefficient', fontsize=16)"
   ]
  },
  {
   "cell_type": "code",
   "execution_count": 104,
   "metadata": {},
   "outputs": [
    {
     "data": {
      "text/plain": [
       "<matplotlib.axes._subplots.AxesSubplot at 0x12599ab70>"
      ]
     },
     "execution_count": 104,
     "metadata": {},
     "output_type": "execute_result"
    },
    {
     "data": {
      "image/png": "[encoded data removed]",
      "text/plain": [
       "<matplotlib.figure.Figure at 0x125a86f28>"
      ]
     },
     "metadata": {},
     "output_type": "display_data"
    }
   ],
   "source": [
    "# 14Q1 - 17Q2 \n",
    "df1.loc[:,['SSE_DJI_Correlation_Coefficient']].plot.box()"
   ]
  },
  {
   "cell_type": "code",
   "execution_count": 105,
   "metadata": {},
   "outputs": [
    {
     "data": {
      "text/plain": [
       "<matplotlib.axes._subplots.AxesSubplot at 0x125ad35f8>"
      ]
     },
     "execution_count": 105,
     "metadata": {},
     "output_type": "execute_result"
    },
    {
     "data": {
      "image/png": "[encoded data removed]",
      "text/plain": [
       "<matplotlib.figure.Figure at 0x125ae9630>"
      ]
     },
     "metadata": {},
     "output_type": "display_data"
    }
   ],
   "source": [
    "# 17Q3 - 18Q4\n",
    "df2.loc[:,['SSE_DJI_Correlation_Coefficient']].plot.box()"
   ]
  },
  {
   "cell_type": "markdown",
   "metadata": {},
   "source": [
    "##  16Q1 - 17Q2 v.s. 17Q3 - 18Q4"
   ]
  },
  {
   "cell_type": "code",
   "execution_count": 86,
   "metadata": {},
   "outputs": [
    {
     "data": {
      "text/plain": [
       "([<matplotlib.axis.XTick at 0x124a96c18>,\n",
       "  <matplotlib.axis.XTick at 0x124ac6ef0>],\n",
       " <a list of 2 Text xticklabel objects>)"
      ]
     },
     "execution_count": 86,
     "metadata": {},
     "output_type": "execute_result"
    },
    {
     "data": {
      "image/png": "[encoded data removed]",
      "text/plain": [
       "<matplotlib.figure.Figure at 0x124a87fd0>"
      ]
     },
     "metadata": {},
     "output_type": "display_data"
    }
   ],
   "source": [
    "# 16Q1 - 17Q2 v.s. 17Q3 - 18Q4\n",
    "data = [df.loc[8:14,['SSE_DJI_Correlation_Coefficient']], df.loc[14:20,['SSE_DJI_Correlation_Coefficient']]]\n",
    "# fig, ax = plt.subplots(figsize=(10,5))\n",
    "plt.boxplot (data)\n",
    "plt.xticks([1, 2], ['16Q1 - 17Q2', '17Q3 - 18Q4'])"
   ]
  },
  {
   "cell_type": "markdown",
   "metadata": {},
   "source": [
    "# 中美股票相关性影响因素分析"
   ]
  },
  {
   "cell_type": "code",
   "execution_count": 18,
   "metadata": {},
   "outputs": [],
   "source": [
    "def correlation_analysis(df, target, source, Title ='feature correlations'):\n",
    "    \"\"\"\n",
    "    generate correlation heatmap\n",
    "    : type df: DataFram\n",
    "    : type target: list # column name\n",
    "    : type source: list # column name\n",
    "    \"\"\"\n",
    "    matrix_hold = []\n",
    "    for i in source:\n",
    "        hold = []\n",
    "        for j in target:\n",
    "            hold.append(df[i].corr(df[j]))\n",
    "        matrix_hold.append(hold)\n",
    "    correlation_matrix = np.asarray(matrix_hold)\n",
    "    sns.heatmap(correlation_matrix, xticklabels=target, yticklabels=source)\n",
    "    plt.title(Title)\n",
    "    return correlation_matrix"
   ]
  },
  {
   "cell_type": "code",
   "execution_count": 14,
   "metadata": {},
   "outputs": [
    {
     "data": {
      "text/plain": [
       "''"
      ]
     },
     "execution_count": 14,
     "metadata": {},
     "output_type": "execute_result"
    },
    {
     "data": {
      "image/png": "[encoded data removed]",
      "text/plain": [
       "<matplotlib.figure.Figure at 0x11ffeed68>"
      ]
     },
     "metadata": {},
     "output_type": "display_data"
    }
   ],
   "source": [
    "target = ['SSE_DJI_Correlation_Coefficient']\n",
    "source = ['IE_Volume',\n",
    "       'IE_Growth_Rate', 'US_GDP', 'US_GDP_Growth_Rate', 'CN_GDP',\n",
    "       'CN_GDP_Growth_Rate', 'GPD_Diff', 'US_CPI', 'US_CPI_Growth_Rate',\n",
    "       'CN_CPI', 'CN_CPI_Growth_Rate', 'CPI_Diff', 'Exchange_Rate',\n",
    "       'Exchange_Volatility']\n",
    "other_columns_correlation = correlation_analysis(df, target, source)\n",
    "\"\"\"\n",
    "各指标与季度相关系数相关性分析图：\n",
    "颜色越深，相关性越大\n",
    "\n",
    "IE_Growth_Rate，US_GDP_Growth_Rate，CN_GDP_Growth_Rate，US_CPI_Growth_Rate，CN_CPI_Growth_Rate，Exchange_Volatility\n",
    "对中美股票相关性影响较大\n",
    "\"\"\""
   ]
  },
  {
   "cell_type": "code",
   "execution_count": 19,
   "metadata": {},
   "outputs": [
    {
     "data": {
      "text/plain": [
       "'\\n结论：\\n美国GDP，CPI增长率对中美股票相关性的影响大于中国GDP，CPI增长率的影响\\n'"
      ]
     },
     "execution_count": 19,
     "metadata": {},
     "output_type": "execute_result"
    },
    {
     "data": {
      "image/png": "[encoded data removed]",
      "text/plain": [
       "<matplotlib.figure.Figure at 0x123024080>"
      ]
     },
     "metadata": {},
     "output_type": "display_data"
    }
   ],
   "source": [
    "target = ['SSE_DJI_Correlation_Coefficient']\n",
    "source = ['IE_Growth_Rate','US_GDP_Growth_Rate','CN_GDP_Growth_Rate','US_CPI_Growth_Rate', 'CN_CPI_Growth_Rate','Exchange_Volatility']\n",
    "other_columns_correlation = correlation_analysis(df, target, source)\n",
    "\"\"\"\n",
    "结论：\n",
    "美国GDP，CPI增长率对中美股票相关性的影响大于中国GDP，CPI增长率的影响\n",
    "\"\"\""
   ]
  },
  {
   "cell_type": "code",
   "execution_count": 22,
   "metadata": {
    "collapsed": true
   },
   "outputs": [],
   "source": [
    "# 研究17/08/14前后， 各影响因子的影响分析\n",
    "# 14Q1 - 17Q2 v.s. 17Q3 - 18Q4\n",
    "df1 = df.iloc[:14]  # 14Q1 - 17Q2\n",
    "df2 = df.iloc[14:]  # 17Q3 - 18Q4"
   ]
  },
  {
   "cell_type": "code",
   "execution_count": 26,
   "metadata": {},
   "outputs": [
    {
     "data": {
      "image/png": "[encoded data removed]",
      "text/plain": [
       "<matplotlib.figure.Figure at 0x1231bbda0>"
      ]
     },
     "metadata": {},
     "output_type": "display_data"
    }
   ],
   "source": [
    "target = ['SSE_DJI_Correlation_Coefficient']\n",
    "source = ['IE_Volume',\n",
    "       'IE_Growth_Rate', 'US_GDP', 'US_GDP_Growth_Rate', 'CN_GDP',\n",
    "       'CN_GDP_Growth_Rate', 'GPD_Diff', 'US_CPI', 'US_CPI_Growth_Rate',\n",
    "       'CN_CPI', 'CN_CPI_Growth_Rate', 'CPI_Diff', 'Exchange_Rate',\n",
    "       'Exchange_Volatility']\n",
    "other_columns_correlation = correlation_analysis(df1, target, source,'14Q1 - 17Q2')"
   ]
  },
  {
   "cell_type": "code",
   "execution_count": 27,
   "metadata": {},
   "outputs": [
    {
     "data": {
      "image/png": "[encoded data removed]",
      "text/plain": [
       "<matplotlib.figure.Figure at 0x122ea6c18>"
      ]
     },
     "metadata": {},
     "output_type": "display_data"
    }
   ],
   "source": [
    "target = ['SSE_DJI_Correlation_Coefficient']\n",
    "source = ['IE_Volume',\n",
    "       'IE_Growth_Rate', 'US_GDP', 'US_GDP_Growth_Rate', 'CN_GDP',\n",
    "       'CN_GDP_Growth_Rate', 'GPD_Diff', 'US_CPI', 'US_CPI_Growth_Rate',\n",
    "       'CN_CPI', 'CN_CPI_Growth_Rate', 'CPI_Diff', 'Exchange_Rate',\n",
    "       'Exchange_Volatility']\n",
    "other_columns_correlation = correlation_analysis(df2, target, source,'17Q3 - 18Q4')"
   ]
  },
  {
   "cell_type": "code",
   "execution_count": null,
   "metadata": {
    "collapsed": true
   },
   "outputs": [],
   "source": []
  }
 ],
 "metadata": {
  "kernelspec": {
   "display_name": "Python 3",
   "language": "python",
   "name": "python3"
  },
  "language_info": {
   "codemirror_mode": {
    "name": "ipython",
    "version": 3
   },
   "file_extension": ".py",
   "mimetype": "text/x-python",
   "name": "python",
   "nbconvert_exporter": "python",
   "pygments_lexer": "ipython3",
   "version": "3.6.1"
  }
 },
 "nbformat": 4,
 "nbformat_minor": 2
}
